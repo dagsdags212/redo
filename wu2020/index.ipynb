{
 "cells": [
  {
   "cell_type": "markdown",
   "id": "a120b72b-9eca-4dab-8414-eaffa25acf4b",
   "metadata": {
    "editable": true,
    "slideshow": {
     "slide_type": ""
    },
    "tags": []
   },
   "source": [
    "---\n",
    "downloads:\n",
    "  - file: output/fastqc/raw/SRR10971381_1_fastqc.html\n",
    "    title: FASTQC report #1\n",
    "    id: fastqc-report-1\n",
    "  - file: output/fastqc/raw/SRR10971381_2_fastqc.html\n",
    "    title: FASTQC report #2\n",
    "    id: fastqc-report-2\n",
    "---"
   ]
  },
  {
   "cell_type": "markdown",
   "id": "c535761d-0428-47ee-bdec-a08cdd678839",
   "metadata": {
    "editable": true,
    "slideshow": {
     "slide_type": ""
    },
    "tags": []
   },
   "source": [
    "# Wu _et al._ (2020)\n",
    "\n",
    ":::{seealso} Overview\n",
    ":class: dropdown\n",
    ":name: Overview\n",
    "\n",
    "**Title**: A new coronavirus associated with human respiratory disease in China\n",
    "\n",
    "**Authors**: Fan Wu, Su Zhao, Bin Yu, Yan-Mei Chen, Wen Wang, Zhi-Gang Song, Yi Hu, Zhao-Wu Tao, Jun-Hua Tian, Yuan-Yuan Pei, Ming-Li Yuan, Yu-Ling Zhang, Fa-Hui Dai, Yi Liu, Qi-Min Wang, Jiao-Jiao Zheng, Lin Xu, Edward C Holmes, Yong-Zhen Zhang\n",
    "\n",
    "**Publication Year**: 2020\n",
    "\n",
    "**Journal**: Nature\n",
    "\n",
    "**DOI**: https://doi.org/10.1038/s41586-020-2008-3\n",
    ":::"
   ]
  },
  {
   "cell_type": "markdown",
   "id": "b5fec882-e82d-41f5-acff-a1a9a5f7ec6a",
   "metadata": {},
   "source": [
    "## Abstract\n",
    "\n",
    "Emerging infectious diseases, such as severe acute respiratory syndrome (SARS) and Zika virus disease, present a major threat to public health1–3. Despite intense research efforts, how, when and where new diseases appear are still a source of considerable uncertainty. A severe respiratory disease was recently reported in Wuhan, Hubei province, China. As of 25 January 2020, at least 1,975 cases had been reported since the first patient was hospitalized on 12 December 2019. Epidemiological investigations have suggested that the outbreak was associated with a seafood market in Wuhan. Here we study a single patient who was a worker at the market and who was admitted to the Central Hospital of Wuhan on 26 December 2019 while experiencing a severe respiratory syndrome that included fever, dizziness and a cough. Metagenomic RNA sequencing4 of a sample of bronchoalveolar lavage fluid from the patient identified a new RNA virus strain from the family Coronaviridae, which is designated here ‘WH-Human 1’ coronavirus (and has also been referred to as ‘2019-nCoV’). Phylogenetic analysis of the complete viral genome (29,903 nucleotides) revealed that the virus was most closely related (89.1% nucleotide similarity) to a group of SARS-like coronaviruses (genus Betacoronavirus, subgenus Sarbecovirus) that had previously been found in bats in China5. This outbreak highlights the ongoing ability of viral spill-over from animals to cause severe disease in humans."
   ]
  },
  {
   "cell_type": "markdown",
   "id": "316eda80-3104-40b1-a22a-deb28bc8ba37",
   "metadata": {
    "editable": true,
    "slideshow": {
     "slide_type": ""
    },
    "tags": []
   },
   "source": [
    "## Environment Setup\n",
    "\n",
    "Create a config file for the conda environment:\n",
    "```{code} yaml\n",
    ":filename: env.yml\n",
    "name: wu2020\n",
    "channels:\n",
    "  - bioconda\n",
    "  - conda-forge\n",
    "dependencies:\n",
    "  - fastqc\n",
    "  - megahit\n",
    "  - seqkit\n",
    "  - sra-tools\n",
    "  - trimmomatic\n",
    "  - pip:\n",
    "    - bio==1.7.1\n",
    "```\n",
    "\n",
    "Initialize the environment and install dependencies:\n",
    "```{code-cell} bash\n",
    "micromamba create -f env.yml\n",
    "```"
   ]
  },
  {
   "cell_type": "markdown",
   "id": "3ce2aaa2-9795-4261-8563-17c26a75fd65",
   "metadata": {
    "editable": true,
    "slideshow": {
     "slide_type": ""
    },
    "tags": []
   },
   "source": [
    "## Project Structure"
   ]
  },
  {
   "cell_type": "code",
   "execution_count": 2,
   "id": "429671fc-f9e6-4b08-9c52-06837b625547",
   "metadata": {
    "editable": true,
    "slideshow": {
     "slide_type": ""
    },
    "tags": []
   },
   "outputs": [],
   "source": [
    "%%bash\n",
    "\n",
    "# For storing sequencing reads.\n",
    "mkdir -p reads\n",
    "\n",
    "# For storing genome records.\n",
    "mkdir -p genomes\n",
    "\n",
    "# For storing statistics in text format.\n",
    "mkdir -p stats\n",
    "\n",
    "# For building BLAST databases.\n",
    "mkdir -p db\n",
    "\n",
    "# For storing FastQC output.\n",
    "mkdir -p output/fastqc"
   ]
  },
  {
   "cell_type": "code",
   "execution_count": 5,
   "id": "35d594e4-5122-46f3-943f-1b8e53569e75",
   "metadata": {
    "editable": true,
    "slideshow": {
     "slide_type": ""
    },
    "tags": [
     "remove-input"
    ]
   },
   "outputs": [
    {
     "name": "stdout",
     "output_type": "stream",
     "text": [
      ".\n",
      "├── db\n",
      "│   ├── contigs\n",
      "│   └── virus_nt_db\n",
      "├── genomes\n",
      "│   └── all_virus_genomes.fna\n",
      "├── output\n",
      "│   ├── blast.result\n",
      "│   ├── blast.results\n",
      "│   ├── draft_genome.fa\n",
      "│   ├── fastqc\n",
      "│   └── megahit\n",
      "├── reads\n",
      "│   ├── raw\n",
      "│   └── trimmed\n",
      "└── stats\n"
     ]
    }
   ],
   "source": [
    "!lsd --tree --depth 2 -I \".*\" -I \"*.ipynb\" -I \"*.stats\" -I \"all_virus_genomes\" --color never --icon never"
   ]
  },
  {
   "cell_type": "markdown",
   "id": "9c575388-1174-4d27-a0c7-3741e12b85d4",
   "metadata": {
    "editable": true,
    "slideshow": {
     "slide_type": ""
    },
    "tags": []
   },
   "source": [
    "## Workflow"
   ]
  },
  {
   "cell_type": "markdown",
   "id": "6a4f7908-6513-4bde-9324-a1d1860b3721",
   "metadata": {
    "editable": true,
    "slideshow": {
     "slide_type": ""
    },
    "tags": []
   },
   "source": [
    "### 1. Retrieve Project Metadata"
   ]
  },
  {
   "cell_type": "code",
   "execution_count": 6,
   "id": "e7ae4a6f-b54b-4ffc-9110-19542c029ff3",
   "metadata": {
    "editable": true,
    "slideshow": {
     "slide_type": ""
    },
    "tags": []
   },
   "outputs": [
    {
     "name": "stdout",
     "output_type": "stream",
     "text": [
      "[\n",
      "    {\n",
      "        \"run_accession\": \"SRR10971381\",\n",
      "        \"sample_accession\": \"SAMN13922059\",\n",
      "        \"sample_alias\": \"Human-BALF\",\n",
      "        \"sample_description\": \"Keywords: GSC:MIxS MIMS:5.0\",\n",
      "        \"first_public\": \"2020-02-05\",\n",
      "        \"country\": \"China: Wuhan\",\n",
      "        \"scientific_name\": \"human lung metagenome\",\n",
      "        \"fastq_bytes\": \"1160191847;1216048922\",\n",
      "        \"base_count\": \"8031043214\",\n",
      "        \"read_count\": \"28282964\",\n",
      "        \"library_name\": \"1\",\n",
      "        \"library_strategy\": \"RNA-Seq\",\n",
      "        \"library_source\": \"METATRANSCRIPTOMIC\",\n",
      "        \"library_layout\": \"PAIRED\",\n",
      "        \"instrument_platform\": \"ILLUMINA\",\n",
      "        \"instrument_model\": \"Illumina MiniSeq\",\n",
      "        \"study_title\": \"Complete genome of a novel coronavirus associated with severe human respiratory disease in Wuhan, China\",\n",
      "        \"fastq_url\": [\n",
      "            \"https://ftp.sra.ebi.ac.uk/vol1/fastq/SRR109/081/SRR10971381/SRR10971381_1.fastq.gz\",\n",
      "            \"https://ftp.sra.ebi.ac.uk/vol1/fastq/SRR109/081/SRR10971381/SRR10971381_2.fastq.gz\"\n",
      "        ],\n",
      "        \"info\": \"1 GB, 1 GB files; 28.3 million reads; 8031.0 million sequenced bases\"\n",
      "    }\n",
      "]\n"
     ]
    }
   ],
   "source": [
    "%%bash\n",
    "\n",
    "# Accession for the viral reads.\n",
    "SRR=SRR10971381\n",
    "\n",
    "# Fetch sample metadata.\n",
    "bio search ${SRR}"
   ]
  },
  {
   "cell_type": "markdown",
   "id": "0729aef7-0692-4e15-8e4a-0b282d1be67f",
   "metadata": {},
   "source": [
    "### 2. Download FASTQ Files"
   ]
  },
  {
   "cell_type": "code",
   "execution_count": 47,
   "id": "da056bb1-c172-48f4-baf4-83ae062f0a89",
   "metadata": {
    "editable": true,
    "slideshow": {
     "slide_type": ""
    },
    "tags": [
     "skip-execution"
    ]
   },
   "outputs": [
    {
     "name": "stdout",
     "output_type": "stream",
     "text": [
      "Read 28282964 spots for SRR10971381\n",
      "Written 28282964 spots for SRR10971381\n"
     ]
    }
   ],
   "source": [
    "%%bash\n",
    "\n",
    "# Create a subdirectory for raw reads.\n",
    "mkdir -p reads/raw\n",
    "\n",
    "# Retrieve read data from SRA.\n",
    "fastq-dump --split-files --origfmt --outdir reads/raw SRR10971381 "
   ]
  },
  {
   "cell_type": "markdown",
   "id": "2b2ad2eb-8f49-43fc-872b-24668a0f388d",
   "metadata": {
    "editable": true,
    "slideshow": {
     "slide_type": ""
    },
    "tags": []
   },
   "source": [
    "Get an overview of the FASTQ files:"
   ]
  },
  {
   "cell_type": "code",
   "execution_count": 48,
   "id": "b9c00f44-d9bc-4770-8d82-a13ea043eb16",
   "metadata": {
    "editable": true,
    "scrolled": true,
    "slideshow": {
     "slide_type": ""
    },
    "tags": []
   },
   "outputs": [
    {
     "name": "stdout",
     "output_type": "stream",
     "text": [
      "file                           format  type    num_seqs        sum_len  min_len  avg_len  max_len\n",
      "reads/raw/SRR10971381_1.fastq  FASTQ   DNA   28,282,964  4,017,125,680       35      142      151\n",
      "reads/raw/SRR10971381_2.fastq  FASTQ   DNA   28,282,964  4,013,917,534       35    141.9      151\n"
     ]
    }
   ],
   "source": [
    "!seqkit stats --quiet reads/raw/*"
   ]
  },
  {
   "cell_type": "markdown",
   "id": "b338c429-2b97-4e86-9b40-8337f4497581",
   "metadata": {
    "editable": true,
    "slideshow": {
     "slide_type": ""
    },
    "tags": []
   },
   "source": [
    "Inspect the first two forward reads:"
   ]
  },
  {
   "cell_type": "code",
   "execution_count": 49,
   "id": "aab9fd85-ac1d-4bab-adb1-fd0ac81927a2",
   "metadata": {
    "editable": true,
    "slideshow": {
     "slide_type": ""
    },
    "tags": []
   },
   "outputs": [
    {
     "name": "stdout",
     "output_type": "stream",
     "text": [
      "@1\n",
      "CAAAGTCAAGCTCCCTTCTGCCTTTACACTCTTCGAGCGATTTCCGTCCGCTCTGAGGGAACCTTTGGGCGCCTCCGTTACTCTTTTGGAGGCGACCGCCCCAGTCAAACTGCCCGCCTAAGACTGTCCGGCCGGTCNTTACTCGGCNCGT\n",
      "+1\n",
      "AAFFAF/FFFFFFFFAFFFFFFFFFFFFFFF/FFFFFFF/AFFFFFFFFFFFFAF/FFF//FF=FA/FFAFFFFFF/FF/FAFFF/AFFFAF6FFF//FFAFFAFFFFFFFFFFFFFFFFAFFFAA=A/FFFAFFFF#6AFF6F=FF#=FF\n",
      "@2\n",
      "NNNNNNNNNNNNNNNNNNNNNNNNNNNNNNNNNNNNNNNNNNNNNNNNNNNNNNNNNNNNNNNNNNNNNNNNNNNNNNNNNNNNNNNNNNNNNNNNNNNNNNNNNNNNNNNNNNNNNNNNNNNNNNNNNNNNNNNNNNNNNNNNNNNNNNN\n",
      "+2\n",
      "!!!!!!!!!!!!!!!!!!!!!!!!!!!!!!!!!!!!!!!!!!!!!!!!!!!!!!!!!!!!!!!!!!!!!!!!!!!!!!!!!!!!!!!!!!!!!!!!!!!!!!!!!!!!!!!!!!!!!!!!!!!!!!!!!!!!!!!!!!!!!!!!!!!!!!!\n"
     ]
    }
   ],
   "source": [
    "!head -8 reads/raw/SRR10971381_1.fastq"
   ]
  },
  {
   "cell_type": "markdown",
   "id": "82944b4e-457c-4b0c-be96-6194f1314e5b",
   "metadata": {
    "editable": true,
    "slideshow": {
     "slide_type": ""
    },
    "tags": []
   },
   "source": [
    "### 3. Quality Control"
   ]
  },
  {
   "cell_type": "markdown",
   "id": "1016eceb-0ecf-448c-a54a-7a102ddbd016",
   "metadata": {},
   "source": [
    "Generate a quality report for the raw reads using `fastqc`:"
   ]
  },
  {
   "cell_type": "markdown",
   "id": "b481f43d-e3d8-4834-9024-51679869be70",
   "metadata": {
    "editable": true,
    "slideshow": {
     "slide_type": ""
    },
    "tags": []
   },
   "source": [
    ":::{aside} FASTQC Reports\n",
    "\n",
    "- [Report #1](output/fastqc/raw/SRR10971381_1_fastqc.html)\n",
    "- [Report #2](output/fastqc/raw/SRR10971381_2_fastqc.html)\n",
    "\n",
    ":::"
   ]
  },
  {
   "cell_type": "code",
   "execution_count": 50,
   "id": "3eabbdc2-6d79-4c3f-b29c-15f29e5fce1c",
   "metadata": {
    "editable": true,
    "scrolled": true,
    "slideshow": {
     "slide_type": ""
    },
    "tags": [
     "remove-output"
    ]
   },
   "outputs": [
    {
     "name": "stdout",
     "output_type": "stream",
     "text": [
      "null\n",
      "null\n"
     ]
    },
    {
     "name": "stderr",
     "output_type": "stream",
     "text": [
      "Started analysis of SRR10971381_1.fastq\n",
      "Approx 5% complete for SRR10971381_1.fastq\n",
      "Approx 10% complete for SRR10971381_1.fastq\n",
      "Approx 15% complete for SRR10971381_1.fastq\n",
      "Approx 20% complete for SRR10971381_1.fastq\n",
      "Approx 25% complete for SRR10971381_1.fastq\n",
      "Approx 30% complete for SRR10971381_1.fastq\n",
      "Approx 35% complete for SRR10971381_1.fastq\n",
      "Approx 40% complete for SRR10971381_1.fastq\n",
      "Approx 45% complete for SRR10971381_1.fastq\n",
      "Approx 50% complete for SRR10971381_1.fastq\n",
      "Approx 55% complete for SRR10971381_1.fastq\n",
      "Approx 60% complete for SRR10971381_1.fastq\n",
      "Approx 65% complete for SRR10971381_1.fastq\n",
      "Approx 70% complete for SRR10971381_1.fastq\n",
      "Approx 75% complete for SRR10971381_1.fastq\n",
      "Approx 80% complete for SRR10971381_1.fastq\n",
      "Approx 85% complete for SRR10971381_1.fastq\n",
      "Approx 90% complete for SRR10971381_1.fastq\n",
      "Approx 95% complete for SRR10971381_1.fastq\n"
     ]
    },
    {
     "name": "stdout",
     "output_type": "stream",
     "text": [
      "Analysis complete for SRR10971381_1.fastq\n"
     ]
    },
    {
     "name": "stderr",
     "output_type": "stream",
     "text": [
      "Started analysis of SRR10971381_2.fastq\n",
      "Approx 5% complete for SRR10971381_2.fastq\n",
      "Approx 10% complete for SRR10971381_2.fastq\n",
      "Approx 15% complete for SRR10971381_2.fastq\n",
      "Approx 20% complete for SRR10971381_2.fastq\n",
      "Approx 25% complete for SRR10971381_2.fastq\n",
      "Approx 30% complete for SRR10971381_2.fastq\n",
      "Approx 35% complete for SRR10971381_2.fastq\n",
      "Approx 40% complete for SRR10971381_2.fastq\n",
      "Approx 45% complete for SRR10971381_2.fastq\n",
      "Approx 50% complete for SRR10971381_2.fastq\n",
      "Approx 55% complete for SRR10971381_2.fastq\n",
      "Approx 60% complete for SRR10971381_2.fastq\n",
      "Approx 65% complete for SRR10971381_2.fastq\n",
      "Approx 70% complete for SRR10971381_2.fastq\n",
      "Approx 75% complete for SRR10971381_2.fastq\n",
      "Approx 80% complete for SRR10971381_2.fastq\n",
      "Approx 85% complete for SRR10971381_2.fastq\n",
      "Approx 90% complete for SRR10971381_2.fastq\n",
      "Approx 95% complete for SRR10971381_2.fastq\n"
     ]
    },
    {
     "name": "stdout",
     "output_type": "stream",
     "text": [
      "Analysis complete for SRR10971381_2.fastq\n"
     ]
    }
   ],
   "source": [
    "%%bash\n",
    "\n",
    "# Store report for raw reads here.\n",
    "mkdir -p output/fastqc/raw\n",
    "\n",
    "# Generate report.\n",
    "fastqc -o output/fastqc/raw --svg reads/raw/*.fastq "
   ]
  },
  {
   "cell_type": "markdown",
   "id": "825e18ed-6fe1-4bad-a4f4-1d9b326cade6",
   "metadata": {
    "editable": true,
    "slideshow": {
     "slide_type": ""
    },
    "tags": []
   },
   "source": [
    "Trim adapters and filiter out low quality reads using `trimmomatic`:"
   ]
  },
  {
   "cell_type": "code",
   "execution_count": 51,
   "id": "81d1978d-f1c4-4f84-8b89-4dade8cb2fc9",
   "metadata": {
    "editable": true,
    "slideshow": {
     "slide_type": ""
    },
    "tags": []
   },
   "outputs": [
    {
     "name": "stderr",
     "output_type": "stream",
     "text": [
      "TrimmomaticPE: Started with arguments:\n",
      " reads/raw/SRR10971381_1.fastq reads/raw/SRR10971381_2.fastq reads/trimmed/SRR10971381_1.trimmed.fastq reads/trimmed/SRR10971381_1un.trimmed.fastq reads/trimmed/SRR10971381_2.trimmed.fastq reads/trimmed/SRR10971381_2un.trimmed.fastq -summary stats/SRR10971381.trimmomatic.stats SLIDINGWINDOW:4:30\n",
      "Quality encoding detected as phred33\n",
      "Input Read Pairs: 28282964 Both Surviving: 5304391 (18.75%) Forward Only Surviving: 8220297 (29.06%) Reverse Only Surviving: 226735 (0.80%) Dropped: 14531541 (51.38%)\n",
      "TrimmomaticPE: Completed successfully\n"
     ]
    }
   ],
   "source": [
    "%%bash\n",
    "\n",
    "# SRA accession.\n",
    "SRR=SRR10971381\n",
    "\n",
    "# Path to pair-end reads.\n",
    "R1=reads/raw/${SRR}_1.fastq\n",
    "R2=reads/raw/${SRR}_2.fastq\n",
    "\n",
    "# Directory for storing trimmed reads.\n",
    "mkdir -p reads/trimmed\n",
    "\n",
    "# Perform trimmimng and filtering.\n",
    "trimmomatic PE ${R1} ${R2} \\\n",
    "  reads/trimmed/${SRR}_1{,un}.trimmed.fastq reads/trimmed/${SRR}_2{,un}.trimmed.fastq \\\n",
    "  -summary stats/${SRR}.trimmomatic.stats \\\n",
    "  SLIDINGWINDOW:4:30"
   ]
  },
  {
   "cell_type": "markdown",
   "id": "527a23d6-02bf-4c03-989d-39f81bdaaf32",
   "metadata": {
    "editable": true,
    "slideshow": {
     "slide_type": ""
    },
    "tags": []
   },
   "source": [
    "Check how many reads were trimmed:"
   ]
  },
  {
   "cell_type": "code",
   "execution_count": 52,
   "id": "26b9468d-79ca-4f4b-b30b-5526bd6d3df0",
   "metadata": {
    "editable": true,
    "scrolled": true,
    "slideshow": {
     "slide_type": ""
    },
    "tags": []
   },
   "outputs": [
    {
     "name": "stdout",
     "output_type": "stream",
     "text": [
      "Input Read Pairs: 28282964\n",
      "Both Surviving Reads: 5304391\n",
      "Both Surviving Read Percent: 18.75\n",
      "Forward Only Surviving Reads: 8220297\n",
      "Forward Only Surviving Read Percent: 29.06\n",
      "Reverse Only Surviving Reads: 226735\n",
      "Reverse Only Surviving Read Percent: 0.80\n",
      "Dropped Reads: 14531541\n",
      "Dropped Read Percent: 51.38\n"
     ]
    }
   ],
   "source": [
    "!cat stats/SRR10971381.trimmomatic.stats"
   ]
  },
  {
   "cell_type": "markdown",
   "id": "2a3366f6-3593-4669-a735-ed0ed53e464d",
   "metadata": {
    "editable": true,
    "slideshow": {
     "slide_type": ""
    },
    "tags": []
   },
   "source": [
    "Generate FASTQC report for trimmed reads:"
   ]
  },
  {
   "cell_type": "markdown",
   "id": "0f04a6db-2d8b-47da-975d-b2711b866c18",
   "metadata": {
    "editable": true,
    "slideshow": {
     "slide_type": ""
    },
    "tags": []
   },
   "source": [
    ":::{aside} FASTQC Reports\n",
    "\n",
    "- [Report #1](output/fastqc/trimmed/SRR10971381_1.trimmed_fastqc.html)\n",
    "- [Report #2](output/fastqc/trimmed/SRR10971381_2.trimmmed_fastqc.html)\n",
    "\n",
    ":::"
   ]
  },
  {
   "cell_type": "code",
   "execution_count": 53,
   "id": "eceaaefd-2721-4054-baec-aaea5965f038",
   "metadata": {
    "editable": true,
    "slideshow": {
     "slide_type": ""
    },
    "tags": [
     "remove-output"
    ]
   },
   "outputs": [
    {
     "name": "stdout",
     "output_type": "stream",
     "text": [
      "null\n",
      "null\n"
     ]
    },
    {
     "name": "stderr",
     "output_type": "stream",
     "text": [
      "Started analysis of SRR10971381_1.trimmed.fastq\n"
     ]
    },
    {
     "name": "stdout",
     "output_type": "stream",
     "text": [
      "null\n",
      "null\n"
     ]
    },
    {
     "name": "stderr",
     "output_type": "stream",
     "text": [
      "Approx 5% complete for SRR10971381_1.trimmed.fastq\n",
      "Approx 10% complete for SRR10971381_1.trimmed.fastq\n",
      "Approx 15% complete for SRR10971381_1.trimmed.fastq\n",
      "Approx 20% complete for SRR10971381_1.trimmed.fastq\n",
      "Approx 25% complete for SRR10971381_1.trimmed.fastq\n",
      "Approx 30% complete for SRR10971381_1.trimmed.fastq\n",
      "Approx 35% complete for SRR10971381_1.trimmed.fastq\n",
      "Approx 40% complete for SRR10971381_1.trimmed.fastq\n",
      "Approx 45% complete for SRR10971381_1.trimmed.fastq\n",
      "Approx 50% complete for SRR10971381_1.trimmed.fastq\n",
      "Approx 55% complete for SRR10971381_1.trimmed.fastq\n",
      "Approx 60% complete for SRR10971381_1.trimmed.fastq\n",
      "Approx 65% complete for SRR10971381_1.trimmed.fastq\n",
      "Approx 70% complete for SRR10971381_1.trimmed.fastq\n",
      "Approx 75% complete for SRR10971381_1.trimmed.fastq\n",
      "Approx 80% complete for SRR10971381_1.trimmed.fastq\n",
      "Approx 85% complete for SRR10971381_1.trimmed.fastq\n",
      "Approx 90% complete for SRR10971381_1.trimmed.fastq\n",
      "Approx 95% complete for SRR10971381_1.trimmed.fastq\n"
     ]
    },
    {
     "name": "stdout",
     "output_type": "stream",
     "text": [
      "Analysis complete for SRR10971381_1.trimmed.fastq\n"
     ]
    },
    {
     "name": "stderr",
     "output_type": "stream",
     "text": [
      "Started analysis of SRR10971381_1un.trimmed.fastq\n",
      "Approx 5% complete for SRR10971381_1un.trimmed.fastq\n",
      "Approx 10% complete for SRR10971381_1un.trimmed.fastq\n",
      "Approx 15% complete for SRR10971381_1un.trimmed.fastq\n",
      "Approx 20% complete for SRR10971381_1un.trimmed.fastq\n",
      "Approx 25% complete for SRR10971381_1un.trimmed.fastq\n",
      "Approx 30% complete for SRR10971381_1un.trimmed.fastq\n",
      "Approx 35% complete for SRR10971381_1un.trimmed.fastq\n",
      "Approx 40% complete for SRR10971381_1un.trimmed.fastq\n",
      "Approx 45% complete for SRR10971381_1un.trimmed.fastq\n",
      "Approx 50% complete for SRR10971381_1un.trimmed.fastq\n",
      "Approx 55% complete for SRR10971381_1un.trimmed.fastq\n",
      "Approx 60% complete for SRR10971381_1un.trimmed.fastq\n",
      "Approx 65% complete for SRR10971381_1un.trimmed.fastq\n",
      "Approx 70% complete for SRR10971381_1un.trimmed.fastq\n",
      "Approx 75% complete for SRR10971381_1un.trimmed.fastq\n",
      "Approx 80% complete for SRR10971381_1un.trimmed.fastq\n",
      "Approx 85% complete for SRR10971381_1un.trimmed.fastq\n",
      "Approx 90% complete for SRR10971381_1un.trimmed.fastq\n",
      "Approx 95% complete for SRR10971381_1un.trimmed.fastq\n"
     ]
    },
    {
     "name": "stdout",
     "output_type": "stream",
     "text": [
      "Analysis complete for SRR10971381_1un.trimmed.fastq\n"
     ]
    },
    {
     "name": "stderr",
     "output_type": "stream",
     "text": [
      "Started analysis of SRR10971381_2.trimmed.fastq\n",
      "Approx 5% complete for SRR10971381_2.trimmed.fastq\n",
      "Approx 10% complete for SRR10971381_2.trimmed.fastq\n",
      "Approx 15% complete for SRR10971381_2.trimmed.fastq\n",
      "Approx 20% complete for SRR10971381_2.trimmed.fastq\n",
      "Approx 25% complete for SRR10971381_2.trimmed.fastq\n",
      "Approx 30% complete for SRR10971381_2.trimmed.fastq\n",
      "Approx 35% complete for SRR10971381_2.trimmed.fastq\n",
      "Approx 40% complete for SRR10971381_2.trimmed.fastq\n",
      "Approx 45% complete for SRR10971381_2.trimmed.fastq\n",
      "Approx 50% complete for SRR10971381_2.trimmed.fastq\n",
      "Approx 55% complete for SRR10971381_2.trimmed.fastq\n",
      "Approx 60% complete for SRR10971381_2.trimmed.fastq\n",
      "Approx 65% complete for SRR10971381_2.trimmed.fastq\n",
      "Approx 70% complete for SRR10971381_2.trimmed.fastq\n",
      "Approx 75% complete for SRR10971381_2.trimmed.fastq\n",
      "Approx 80% complete for SRR10971381_2.trimmed.fastq\n",
      "Approx 85% complete for SRR10971381_2.trimmed.fastq\n",
      "Approx 90% complete for SRR10971381_2.trimmed.fastq\n",
      "Approx 95% complete for SRR10971381_2.trimmed.fastq\n"
     ]
    },
    {
     "name": "stdout",
     "output_type": "stream",
     "text": [
      "Analysis complete for SRR10971381_2.trimmed.fastq\n"
     ]
    },
    {
     "name": "stderr",
     "output_type": "stream",
     "text": [
      "Started analysis of SRR10971381_2un.trimmed.fastq\n",
      "Approx 5% complete for SRR10971381_2un.trimmed.fastq\n",
      "Approx 10% complete for SRR10971381_2un.trimmed.fastq\n",
      "Approx 15% complete for SRR10971381_2un.trimmed.fastq\n",
      "Approx 20% complete for SRR10971381_2un.trimmed.fastq\n",
      "Approx 25% complete for SRR10971381_2un.trimmed.fastq\n",
      "Approx 30% complete for SRR10971381_2un.trimmed.fastq\n",
      "Approx 35% complete for SRR10971381_2un.trimmed.fastq\n",
      "Approx 40% complete for SRR10971381_2un.trimmed.fastq\n",
      "Approx 45% complete for SRR10971381_2un.trimmed.fastq\n",
      "Approx 50% complete for SRR10971381_2un.trimmed.fastq\n",
      "Approx 55% complete for SRR10971381_2un.trimmed.fastq\n",
      "Approx 60% complete for SRR10971381_2un.trimmed.fastq\n",
      "Approx 65% complete for SRR10971381_2un.trimmed.fastq\n",
      "Approx 70% complete for SRR10971381_2un.trimmed.fastq\n",
      "Approx 75% complete for SRR10971381_2un.trimmed.fastq\n",
      "Approx 80% complete for SRR10971381_2un.trimmed.fastq\n",
      "Approx 85% complete for SRR10971381_2un.trimmed.fastq\n",
      "Approx 90% complete for SRR10971381_2un.trimmed.fastq\n",
      "Approx 95% complete for SRR10971381_2un.trimmed.fastq\n"
     ]
    },
    {
     "name": "stdout",
     "output_type": "stream",
     "text": [
      "Analysis complete for SRR10971381_2un.trimmed.fastq\n"
     ]
    }
   ],
   "source": [
    "%%bash\n",
    "\n",
    "# Store report for trimmed reads here.\n",
    "mkdir -p output/fastqc/trimmed\n",
    "\n",
    "# Generate report.\n",
    "fastqc -o output/fastqc/trimmed --svg reads/trimmed/*.fastq "
   ]
  },
  {
   "cell_type": "markdown",
   "id": "5f264aa2-3a9d-4004-987d-d03f678ea765",
   "metadata": {
    "editable": true,
    "slideshow": {
     "slide_type": ""
    },
    "tags": []
   },
   "source": [
    "### 4. Genome Assembly"
   ]
  },
  {
   "cell_type": "markdown",
   "id": "c9ddfb39-ec2a-4c97-81db-b2e40f244f8b",
   "metadata": {
    "editable": true,
    "slideshow": {
     "slide_type": ""
    },
    "tags": []
   },
   "source": [
    "Generate a draft assembly using `megahit`:"
   ]
  },
  {
   "cell_type": "code",
   "execution_count": 55,
   "id": "835c93a3-f816-40ec-894d-41bdcb4fe9fb",
   "metadata": {
    "editable": true,
    "scrolled": true,
    "slideshow": {
     "slide_type": ""
    },
    "tags": [
     "remove-output"
    ]
   },
   "outputs": [
    {
     "name": "stderr",
     "output_type": "stream",
     "text": [
      "2025-02-07 22:53:07 - MEGAHIT v1.2.9\n",
      "2025-02-07 22:53:07 - Using megahit_core with POPCNT and BMI2 support\n",
      "2025-02-07 22:53:07 - Convert reads to binary library\n",
      "2025-02-07 22:53:11 - b'INFO  sequence/io/sequence_lib.cpp  :   75 - Lib 0 (/home/dagsdags/gh-repos/redo/wu2020/reads/trimmed/SRR10971381_1.trimmed.fastq,/home/dagsdags/gh-repos/redo/wu2020/reads/trimmed/SRR10971381_2.trimmed.fastq): pe, 10608782 reads, 151 max length'\n",
      "2025-02-07 22:53:11 - b'INFO  utils/utils.h                 :  152 - Real: 3.3677\\tuser: 3.1343\\tsys: 0.8476\\tmaxrss: 281940'\n",
      "2025-02-07 22:53:11 - k-max reset to: 141 \n",
      "2025-02-07 22:53:11 - Start assembly. Number of CPU threads 16 \n",
      "2025-02-07 22:53:11 - k list: 21,29,39,59,79,99,119,141 \n",
      "2025-02-07 22:53:11 - Memory used: 26183522304\n",
      "2025-02-07 22:53:11 - Extract solid (k+1)-mers for k = 21 \n",
      "2025-02-07 22:53:33 - Build graph for k = 21 \n",
      "2025-02-07 22:53:39 - Assemble contigs from SdBG for k = 21\n",
      "2025-02-07 22:54:05 - Local assembly for k = 21\n",
      "2025-02-07 22:54:09 - Extract iterative edges from k = 21 to 29 \n",
      "2025-02-07 22:54:13 - Build graph for k = 29 \n",
      "2025-02-07 22:54:15 - Assemble contigs from SdBG for k = 29\n",
      "2025-02-07 22:54:34 - Local assembly for k = 29\n",
      "2025-02-07 22:54:38 - Extract iterative edges from k = 29 to 39 \n",
      "2025-02-07 22:54:40 - Build graph for k = 39 \n",
      "2025-02-07 22:54:41 - Assemble contigs from SdBG for k = 39\n",
      "2025-02-07 22:54:55 - Local assembly for k = 39\n",
      "2025-02-07 22:54:59 - Extract iterative edges from k = 39 to 59 \n",
      "2025-02-07 22:55:02 - Build graph for k = 59 \n",
      "2025-02-07 22:55:03 - Assemble contigs from SdBG for k = 59\n",
      "2025-02-07 22:55:10 - Local assembly for k = 59\n",
      "2025-02-07 22:55:14 - Extract iterative edges from k = 59 to 79 \n",
      "2025-02-07 22:55:16 - Build graph for k = 79 \n",
      "2025-02-07 22:55:16 - Assemble contigs from SdBG for k = 79\n",
      "2025-02-07 22:55:19 - Local assembly for k = 79\n",
      "2025-02-07 22:55:23 - Extract iterative edges from k = 79 to 99 \n",
      "2025-02-07 22:55:24 - Build graph for k = 99 \n",
      "2025-02-07 22:55:25 - Assemble contigs from SdBG for k = 99\n",
      "2025-02-07 22:55:26 - Local assembly for k = 99\n",
      "2025-02-07 22:55:30 - Extract iterative edges from k = 99 to 119 \n",
      "2025-02-07 22:55:31 - Build graph for k = 119 \n",
      "2025-02-07 22:55:32 - Assemble contigs from SdBG for k = 119\n",
      "2025-02-07 22:55:33 - Local assembly for k = 119\n",
      "2025-02-07 22:55:37 - Extract iterative edges from k = 119 to 141 \n",
      "2025-02-07 22:55:37 - Build graph for k = 141 \n",
      "2025-02-07 22:55:38 - Assemble contigs from SdBG for k = 141\n",
      "2025-02-07 22:55:38 - Merging to output final contigs \n",
      "2025-02-07 22:55:38 - 7599 contigs, total 3777357 bp, min 200 bp, max 29874 bp, avg 497 bp, N50 472 bp\n",
      "2025-02-07 22:55:39 - ALL DONE. Time elapsed: 151.223691 seconds \n"
     ]
    }
   ],
   "source": [
    "%%bash\n",
    "\n",
    "# SRA accession.\n",
    "SRR=SRR10971381\n",
    "\n",
    "# Path to trimmed reads.\n",
    "R1=reads/trimmed/${SRR}_1.trimmed.fastq\n",
    "R2=reads/trimmed/${SRR}_2.trimmed.fastq\n",
    "\n",
    "# Perform assembly.\n",
    "megahit -1 ${R1} -2 ${R2} -o output/megahit"
   ]
  },
  {
   "cell_type": "markdown",
   "id": "c08f3a66-b1f2-4134-83c2-70190d702eb9",
   "metadata": {
    "editable": true,
    "slideshow": {
     "slide_type": ""
    },
    "tags": []
   },
   "source": [
    "Get an overview of the generated contigs:"
   ]
  },
  {
   "cell_type": "code",
   "execution_count": 56,
   "id": "7b97d0ab-8b00-4544-8344-13e435f337c4",
   "metadata": {
    "editable": true,
    "slideshow": {
     "slide_type": ""
    },
    "tags": []
   },
   "outputs": [
    {
     "name": "stdout",
     "output_type": "stream",
     "text": [
      "file                             format  type  num_seqs    sum_len  min_len  avg_len  max_len\n",
      "output/megahit/final.contigs.fa  FASTA   DNA      7,599  3,777,357      200    497.1   29,874\n"
     ]
    }
   ],
   "source": [
    "!seqkit stats output/megahit/final.contigs.fa"
   ]
  },
  {
   "cell_type": "markdown",
   "id": "c0e8a8ee-9130-45ea-8380-636685856d6e",
   "metadata": {
    "editable": true,
    "slideshow": {
     "slide_type": ""
    },
    "tags": []
   },
   "source": [
    "### 5. Virus Identification"
   ]
  },
  {
   "cell_type": "markdown",
   "id": "38b84b5c-fb0f-4aab-950c-f6c8fdb04799",
   "metadata": {
    "editable": true,
    "slideshow": {
     "slide_type": ""
    },
    "tags": []
   },
   "source": [
    "Retrieve all viral nucleotide records from RefSeq and build a BLAST database:"
   ]
  },
  {
   "cell_type": "code",
   "execution_count": null,
   "id": "2bde877c-0cef-4c5b-bb13-f273ae67c1b9",
   "metadata": {
    "editable": true,
    "slideshow": {
     "slide_type": ""
    },
    "tags": []
   },
   "outputs": [],
   "source": [
    "%%bash\n",
    "\n",
    "# Download all virus nt records.\n",
    "genome_updater.sh -d \"refseq\" -g \"viral\" -c \"na\" \\\n",
    "  -f \"genomic.fna.gz\" -o \"all_virus_genomes\" -t 8\n",
    "\n",
    "# Concatenate all FASTA files into a single file.\n",
    "zcat all_virus_genomes/2025-02-08_00-06-28/files/*.fna.gz > all_virus_genomes.fna\n",
    "\n",
    "# Create BLAST db for viruses.\n",
    "mkdir -p virus_nt_db\n",
    "makeblastdb -in all_virus_genomes.fna -out virus_nt_db/virus -dbtype nucl -parse_seqids"
   ]
  },
  {
   "cell_type": "markdown",
   "id": "a98c64ac-6253-4d3f-a73f-59a42774aee2",
   "metadata": {
    "editable": true,
    "slideshow": {
     "slide_type": ""
    },
    "tags": []
   },
   "source": [
    "Generate a BLAST database from the assembled contigs:"
   ]
  },
  {
   "cell_type": "code",
   "execution_count": 57,
   "id": "8c1e5f08-8728-4a78-b726-a6c4ed4f988e",
   "metadata": {
    "editable": true,
    "slideshow": {
     "slide_type": ""
    },
    "tags": []
   },
   "outputs": [
    {
     "name": "stdout",
     "output_type": "stream",
     "text": [
      "\n",
      "\n",
      "Building a new DB, current time: 02/07/2025 23:02:25\n",
      "New DB name:   /home/dagsdags/gh-repos/redo/wu2020/db/contigs\n",
      "New DB title:  output/megahit/final.contigs.fa\n",
      "Sequence type: Nucleotide\n",
      "Keep MBits: T\n",
      "Maximum file size: 3000000000B\n",
      "Adding sequences from FASTA; added 7599 sequences in 0.10007 seconds.\n",
      "\n",
      "\n"
     ]
    }
   ],
   "source": [
    "%%bash\n",
    "\n",
    "# A directory for storing BLAST databases.\n",
    "mkdir -p db\n",
    "\n",
    "makeblastdb -in output/megahit/final.contigs.fa -out db/contigs -dbtype nucl -parse_seqids"
   ]
  },
  {
   "cell_type": "markdown",
   "id": "d5439a58-20ca-4efa-81db-d2f621dfeb2e",
   "metadata": {
    "editable": true,
    "slideshow": {
     "slide_type": ""
    },
    "tags": []
   },
   "source": [
    "Sort the contigs by length and extract the ID of the longest one:"
   ]
  },
  {
   "cell_type": "code",
   "execution_count": 74,
   "id": "85f8883e-3731-4707-9326-aceafaa6fbc1",
   "metadata": {
    "editable": true,
    "slideshow": {
     "slide_type": ""
    },
    "tags": []
   },
   "outputs": [
    {
     "name": "stdout",
     "output_type": "stream",
     "text": [
      "k141_1553\n",
      "sort: write failed: 'standard output': Broken pipe\n",
      "sort: write error\n"
     ]
    }
   ],
   "source": [
    "!blastdbcmd -db db/contigs -entry all -outfmt \"%l %a\" | sort -k1 -r -n | head -1 | cut -d \" \" -f2"
   ]
  },
  {
   "cell_type": "markdown",
   "id": "bc516cf6-9b69-4642-a0db-a40ce184864d",
   "metadata": {
    "editable": true,
    "slideshow": {
     "slide_type": ""
    },
    "tags": []
   },
   "source": [
    "Extract the sequence of the largest contig and save it as a separate FASTA file:"
   ]
  },
  {
   "cell_type": "code",
   "execution_count": 78,
   "id": "a1f5560b-9874-4f83-92ee-3e409e27a2e5",
   "metadata": {
    "editable": true,
    "slideshow": {
     "slide_type": ""
    },
    "tags": []
   },
   "outputs": [],
   "source": [
    "!blastdbcmd -db db/contigs -entry K141_1553 > output/draft_genome.fa"
   ]
  },
  {
   "cell_type": "code",
   "execution_count": 79,
   "id": "97633106-2f0f-4d7e-a919-5f5bcaa920bb",
   "metadata": {
    "editable": true,
    "slideshow": {
     "slide_type": ""
    },
    "tags": [
     "remove-input"
    ]
   },
   "outputs": [
    {
     "name": "stdout",
     "output_type": "stream",
     "text": [
      ">k141_1553 flag=1 multi=109.0000 len=29874\n",
      "TGATTAAAGGTTTATACCTTCCCAGGTAACAAACCAACCAACTTTCGATCTCTTGTAGATCTGTTCTCTAAACGAACTTT\n",
      "AAAATCTGTGTGGCTGTCACTCGGCTGCATGCTTAGTGCACTCACGCAGTATAATTAATAACTAATTACTGTCGTTGACA\n",
      "GGACACGAGTAACTCGTCTATCTTCTGCAGGCTGCTTACGGTTTCGTCCGTGTTGCAGCCGATCATCAGCACATCTAGGT\n",
      "TTCGTCCGGGTGTGACCGAAAGGTAAGATGGAGAGCCTTGTCCCTGGTTTCAACGAGAAAACACACGTCCAACTCAGTTT\n",
      "GCCTGTTTTACAGGTTCGCGACGTGCTCGTACGTGGCTTTGGAGACTCCGTGGAGGAGGTCTTATCAGAGGCACGTCAAC\n",
      "ATCTTAAAGATGGCACTTGTGGCTTAGTAGAAGTTGAAAAAGGCGTTTTGCCTCAACTTGAACAGCCCTATGTGTTCATC\n",
      "AAACGTTCGGATGCTCGAACTGCACCTCATGGTCATGTTATGGTTGAGCTGGTAGCAGAACTCGAAGGCATTCAGTACGG\n",
      "TCGTAGTGGTGAGACACTTGGTGTCCTTGTCCCTCATGTGGGCGAAATACCAGTGGCTTACCGCAAGGTTCTTCTTCGTA\n",
      "AGAACGGTAATAAAGGAGCTGGTGGCCATAGTTACGGCGCCGATCTAAAGTCATTTGACTTAGGCGACGAGCTTGGCACT\n"
     ]
    }
   ],
   "source": [
    "!cat output/draft_genome.fa | head"
   ]
  },
  {
   "cell_type": "markdown",
   "id": "fcdf31af-735a-432e-a1cc-6b92eefec8a7",
   "metadata": {
    "editable": true,
    "slideshow": {
     "slide_type": ""
    },
    "tags": []
   },
   "source": [
    "Query contig against the locally built viral database:"
   ]
  },
  {
   "cell_type": "code",
   "execution_count": 84,
   "id": "eab55950-5ec6-4861-98a1-6dc6c66c1ce8",
   "metadata": {
    "editable": true,
    "slideshow": {
     "slide_type": ""
    },
    "tags": [
     "skip-execution"
    ]
   },
   "outputs": [],
   "source": [
    "!blastn -db virus_nt_db/virus -query output/draft_genome.fa -outfmt 6 > output/blast.results"
   ]
  },
  {
   "cell_type": "code",
   "execution_count": 88,
   "id": "63c2acc2-090b-466a-9f2d-bd6e802e47d1",
   "metadata": {
    "editable": true,
    "slideshow": {
     "slide_type": ""
    },
    "tags": [
     "remove-input"
    ]
   },
   "outputs": [
    {
     "name": "stdout",
     "output_type": "stream",
     "text": [
      "                                                                      Score     E\n",
      "Sequences producing significant alignments:                          (Bits)  Value\n",
      "\n",
      "NC_045512.2 Severe acute respiratory syndrome coronavirus 2 isola...  55160   0.0   \n",
      "NC_004718.3 SARS coronavirus Tor2, complete genome                    15175   0.0   \n",
      "NC_014470.1 Bat coronavirus BM48-31/BGR/2008, complete genome         13461   0.0   \n",
      "NC_025217.1 Bat Hp-betacoronavirus/Zhejiang2013, complete genome      1629    0.0   \n",
      "NC_034440.1 Bat coronavirus isolate PREDICT/PDF-2180, complete ge...  758     0.0   \n",
      "NC_006577.2 Human coronavirus HKU1, complete genome                   496     8e-137\n",
      "NC_048214.1 Duck coronavirus isolate DK/GD/27/2014, complete genome   272     1e-69 \n",
      "NC_048211.1 Wencheng Sm shrew coronavirus isolate Xingguo-74 ORF1...  167     7e-38 \n",
      "NC_035191.1 Wencheng Sm shrew coronavirus isolate Xingguo-101 ORF...  161     3e-36 \n",
      "NC_016991.1 White-eye coronavirus HKU16, complete genome              63.9    1e-06 \n",
      "cat: write error: Broken pipe\n"
     ]
    }
   ],
   "source": [
    "!cat output/blast.result | head -30 | tail -13"
   ]
  }
 ],
 "metadata": {
  "kernelspec": {
   "display_name": "wu2020",
   "language": "python",
   "name": "wu2020"
  },
  "language_info": {
   "codemirror_mode": {
    "name": "ipython",
    "version": 3
   },
   "file_extension": ".py",
   "mimetype": "text/x-python",
   "name": "python",
   "nbconvert_exporter": "python",
   "pygments_lexer": "ipython3",
   "version": "3.13.1"
  }
 },
 "nbformat": 4,
 "nbformat_minor": 5
}
